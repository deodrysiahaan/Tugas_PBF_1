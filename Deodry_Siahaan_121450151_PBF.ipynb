{
  "nbformat": 4,
  "nbformat_minor": 0,
  "metadata": {
    "colab": {
      "provenance": []
    },
    "kernelspec": {
      "name": "python3",
      "display_name": "Python 3"
    },
    "language_info": {
      "name": "python"
    }
  },
  "cells": [
    {
      "cell_type": "markdown",
      "source": [
        "**Nama : Deodry Siahaan\\\n",
        "NIM : 121450151\\\n",
        "Kelas : RB**"
      ],
      "metadata": {
        "id": "-Y2iFeYJ6lpH"
      }
    },
    {
      "cell_type": "markdown",
      "source": [
        "**SOAL**\n",
        "1. Jelaskan menggunakan tabel mengenai kelebihan dan kekurangan paradigma procedural dibandingkan dengan object oriented (minimal 3) !"
      ],
      "metadata": {
        "id": "6cqUuJowEyMC"
      }
    },
    {
      "cell_type": "code",
      "source": [
        "from tabulate import tabulate\n",
        "data = [[\"Cocok untuk project atau aplikasi yang sederhana\",\"Prosedural tidak memiliki access modifiers seperti pada OOP,seperti public, protected, dan private.\"],\n",
        "        [\"Mudah dipahami oleh programmer pemulakarena hanya memiliki 3 struktur dasar, yaitu struktur berurutan, seleksi dan perulangan.\",\"Tidak ada proses sederhana untuk menambahkan data di prosedural, tanpa merevisi seluruh program.\"],\n",
        "        [\"Memiliki kesederhanaan, efisiensi, dan keefektifan eksekusi barisan perintah program, karena sangat dekat dengan bahasa mesin.\", \"Prosedural kurang aman dibandingkan dengan OOP yang dapat melakukan abstraction dalam penyembunyian data.\"]]\n",
        "        \n",
        "print(tabulate(data, headers=[\"Kelebihan\",\"Kekurangan\"],tablefmt=\"fancy_grid\"))"
      ],
      "metadata": {
        "colab": {
          "base_uri": "https://localhost:8080/"
        },
        "id": "y51eBbjiBVhz",
        "outputId": "771fd4c0-fefd-487c-8c6c-93b1fbd0d2c3"
      },
      "execution_count": 30,
      "outputs": [
        {
          "output_type": "stream",
          "name": "stdout",
          "text": [
            "╒════════════════════════════════════════════════════════════════════════════════════════════════════════════════════════════════╤═══════════════════════════════════════════════════════════════════════════════════════════════════════════╕\n",
            "│ Kelebihan                                                                                                                      │ Kekurangan                                                                                                │\n",
            "╞════════════════════════════════════════════════════════════════════════════════════════════════════════════════════════════════╪═══════════════════════════════════════════════════════════════════════════════════════════════════════════╡\n",
            "│ Cocok untuk project atau aplikasi yang sederhana                                                                               │ Prosedural tidak memiliki access modifiers seperti pada OOP,seperti public, protected, dan private.       │\n",
            "├────────────────────────────────────────────────────────────────────────────────────────────────────────────────────────────────┼───────────────────────────────────────────────────────────────────────────────────────────────────────────┤\n",
            "│ Mudah dipahami oleh programmer pemulakarena hanya memiliki 3 struktur dasar, yaitu struktur berurutan, seleksi dan perulangan. │ Tidak ada proses sederhana untuk menambahkan data di prosedural, tanpa merevisi seluruh program.          │\n",
            "├────────────────────────────────────────────────────────────────────────────────────────────────────────────────────────────────┼───────────────────────────────────────────────────────────────────────────────────────────────────────────┤\n",
            "│ Memiliki kesederhanaan, efisiensi, dan keefektifan eksekusi barisan perintah program, karena sangat dekat dengan bahasa mesin. │ Prosedural kurang aman dibandingkan dengan OOP yang dapat melakukan abstraction dalam penyembunyian data. │\n",
            "╘════════════════════════════════════════════════════════════════════════════════════════════════════════════════════════════════╧═══════════════════════════════════════════════════════════════════════════════════════════════════════════╛\n"
          ]
        }
      ]
    },
    {
      "cell_type": "markdown",
      "source": [
        "2. Jelaskan menggunakan tabel megenai kelebihan dan kekurangan paradigma object oriented dibandingkan dengan functional (minimal 3) !"
      ],
      "metadata": {
        "id": "hV5iJcQsE0qa"
      }
    },
    {
      "cell_type": "code",
      "source": [
        "from tabulate import tabulate\n",
        "data = [[\"OOP menyediakan penyembunyian data. Karenanya, program yang aman dimungkinkan.\", \"Object-oriented programming tidak support parallel programming\"],\n",
        "        [\"OOP memiliki tiga penentu akses – Publik, Pribadi dan Dilindungi.\", \"Pada OOP metode dapat memiliki efek samping dan dapat memengaruhi prosesor.\"],\n",
        "        [\"Pada OOP data yang dapat diubah digunakan untuk pemrograman berorientasi objek.\" ,\"Pada OOP eksekusi pernyataan harus dalam urutan tertentu. Berbeda dengan functional programming yang dapat dieksekusi dalam urutan apa pun. \"]]\n",
        "        \n",
        "print(tabulate(data, headers=[\"Kelebihan\",\"Kekurangan\"],tablefmt=\"fancy_grid\"))"
      ],
      "metadata": {
        "colab": {
          "base_uri": "https://localhost:8080/"
        },
        "id": "ZfA5ilrADcWf",
        "outputId": "4fc33088-a4dc-4a0a-d426-0c156e5c40b3"
      },
      "execution_count": 31,
      "outputs": [
        {
          "output_type": "stream",
          "name": "stdout",
          "text": [
            "╒═════════════════════════════════════════════════════════════════════════════════╤═════════════════════════════════════════════════════════════════════════════════════════════════════════════════════════════════════════════╕\n",
            "│ Kelebihan                                                                       │ Kekurangan                                                                                                                                  │\n",
            "╞═════════════════════════════════════════════════════════════════════════════════╪═════════════════════════════════════════════════════════════════════════════════════════════════════════════════════════════════════════════╡\n",
            "│ OOP menyediakan penyembunyian data. Karenanya, program yang aman dimungkinkan.  │ Object-oriented programming tidak support parallel programming                                                                              │\n",
            "├─────────────────────────────────────────────────────────────────────────────────┼─────────────────────────────────────────────────────────────────────────────────────────────────────────────────────────────────────────────┤\n",
            "│ OOP memiliki tiga penentu akses – Publik, Pribadi dan Dilindungi.               │ Pada OOP metode dapat memiliki efek samping dan dapat memengaruhi prosesor.                                                                 │\n",
            "├─────────────────────────────────────────────────────────────────────────────────┼─────────────────────────────────────────────────────────────────────────────────────────────────────────────────────────────────────────────┤\n",
            "│ Pada OOP data yang dapat diubah digunakan untuk pemrograman berorientasi objek. │ Pada OOP eksekusi pernyataan harus dalam urutan tertentu. Berbeda dengan functional programming yang dapat dieksekusi dalam urutan apa pun. │\n",
            "╘═════════════════════════════════════════════════════════════════════════════════╧═════════════════════════════════════════════════════════════════════════════════════════════════════════════════════════════════════════════╛\n"
          ]
        }
      ]
    },
    {
      "cell_type": "markdown",
      "source": [
        "3. Jelaskan menggunakan tabel mengenai kelebihan dan kekurangan paradigma prosedural dibandingkan dengan functional (minimal 3) !"
      ],
      "metadata": {
        "id": "Rm-OCYkXE99E"
      }
    },
    {
      "cell_type": "code",
      "source": [
        "from tabulate import tabulate\n",
        "data = [[\"Prosedural mendukung iteration seperti conditional dan loop statement\",\"Pada prosedural,  kodenya lebih panjang dan kompleks untuk dibaca dan dipahami. \"],\n",
        "        [\"Prosedural tidak perlu mereplikasi kode karena dapat digunakan kembali di berbagai bagian aplikasi.\",\"Prosedural memerlukan proses yang lebih memakan waktu. \"],\n",
        "        [\"Pada prosedural kebutuhan memori juga dikurangi dengan menggunakan pendekatan Pemrograman Prosedural.\",\"Pada paradigma prosedural sulit untuk program yang fleksibel dan dapat diubah-ubah karena tidak ada cara untuk membuat kode yang dapat beradaptasi dengan perubahan data dan input yang berbeda.\"]]\n",
        "        \n",
        "print(tabulate(data, headers=[\"Kelebihan\",\"Kekurangan\"],tablefmt=\"fancy_grid\"))"
      ],
      "metadata": {
        "colab": {
          "base_uri": "https://localhost:8080/"
        },
        "id": "3gGMdZKcEN_4",
        "outputId": "41a17187-b34d-42ad-95aa-744476f259d6"
      },
      "execution_count": 32,
      "outputs": [
        {
          "output_type": "stream",
          "name": "stdout",
          "text": [
            "╒═══════════════════════════════════════════════════════════════════════════════════════════════════════╤══════════════════════════════════════════════════════════════════════════════════════════════════════════════════════════════════════════════════════════════════════════════════════════════════╕\n",
            "│ Kelebihan                                                                                             │ Kekurangan                                                                                                                                                                                       │\n",
            "╞═══════════════════════════════════════════════════════════════════════════════════════════════════════╪══════════════════════════════════════════════════════════════════════════════════════════════════════════════════════════════════════════════════════════════════════════════════════════════════╡\n",
            "│ Prosedural mendukung iteration seperti conditional dan loop statement                                 │ Pada prosedural,  kodenya lebih panjang dan kompleks untuk dibaca dan dipahami.                                                                                                                  │\n",
            "├───────────────────────────────────────────────────────────────────────────────────────────────────────┼──────────────────────────────────────────────────────────────────────────────────────────────────────────────────────────────────────────────────────────────────────────────────────────────────┤\n",
            "│ Prosedural tidak perlu mereplikasi kode karena dapat digunakan kembali di berbagai bagian aplikasi.   │ Prosedural memerlukan proses yang lebih memakan waktu.                                                                                                                                           │\n",
            "├───────────────────────────────────────────────────────────────────────────────────────────────────────┼──────────────────────────────────────────────────────────────────────────────────────────────────────────────────────────────────────────────────────────────────────────────────────────────────┤\n",
            "│ Pada prosedural kebutuhan memori juga dikurangi dengan menggunakan pendekatan Pemrograman Prosedural. │ Pada paradigma prosedural sulit untuk program yang fleksibel dan dapat diubah-ubah karena tidak ada cara untuk membuat kode yang dapat beradaptasi dengan perubahan data dan input yang berbeda. │\n",
            "╘═══════════════════════════════════════════════════════════════════════════════════════════════════════╧══════════════════════════════════════════════════════════════════════════════════════════════════════════════════════════════════════════════════════════════════════════════════════════════════╛\n"
          ]
        }
      ]
    },
    {
      "cell_type": "markdown",
      "source": [
        "4. Apa yang dimaksud dengan pure functional programming languange ?\n",
        "Pure functional programming adalah fungsi yang hasilnya hanya bergantung pada parameter input, dan yang operasinya tidak menimbulkan efek samping, yaitu tidak membuat dampak eksternal selain nilai kembalian.\n",
        "\n",
        "Pure functional programming adalah fungsi yang memiliki sifat-sifat berikut :\n",
        "\n",
        "\n",
        "*   nilai pengembalian fungsi identik untuk argumen identik (tidak ada variasi \n",
        "dengan variabel statis lokal, variabel non-lokal, argumen referensi yang dapat diubah atau aliran input).\n",
        "*   fungsi tidak memiliki efek samping (tidak ada mutasi variabel statis lokal, variabel non-lokal, argumen referensi yang dapat diubah, atau aliran input/output)"
      ],
      "metadata": {
        "id": "pvfJW8U_FOrf"
      }
    },
    {
      "cell_type": "markdown",
      "source": [
        "5. Dari bahasa pemrograman FP di slide sebelumnya (slide 14), manakah yang termasuk pure functional programming languange ?\n",
        "\n",
        "*   Lisp\n",
        "*   Haskell\n",
        "*   Scala\n",
        "*   Java Script\n",
        "*   Python"
      ],
      "metadata": {
        "id": "4C7pnvwdMGyq"
      }
    },
    {
      "cell_type": "markdown",
      "source": [
        "6. Membuat program Simple Password encryption, dengan ketentuan\n",
        "\n",
        "1.Input password bertipe string dengan batasan panjang password \n",
        "100 karakter\\\n",
        "2.Setiap karakter dari string tersebut diubah menjadi ASCII value\\\n",
        "3.Kemudian setiap ASCII value tersebut dikembangkan menjadi 3 \n",
        "value dengan dilakukan operasi berikut:\n",
        "\n",
        "> 1. Value pertama dibagi dengan integer 26 kemudian dibulatkan dan dijumlahkan dengan 80 kemudian diubah \n",
        "kembali menjadi karakter\\\n",
        "2. Value kedua dihitung sisa bagi dengan 26 kemudian \n",
        "dijumlahkan dengan 80 kemudian diubah kembali menjadi \n",
        "karakter\\\n",
        "3. Value ketiga adalah karakter ‘+’ jika value pertama lebih \n",
        "besar dari value kedua, atau value ketiga adalah karakter ‘-’ \n",
        "jika value pertama tidak lebih besar dari value kedua\\\n",
        "4. Deretkan value pertama, kedua dan ketiga untuk setiap karakter \n",
        "dalam password tersebut sehingga didapatkan password dalam \n",
        "bentuk baru"
      ],
      "metadata": {
        "id": "YGd36kRKRs0K"
      }
    },
    {
      "cell_type": "code",
      "source": [
        "def encrypt_password(password):\n",
        "  if len(password) > 100:\n",
        "    return \"Error, karakter lebih dari 100\"\n",
        "\n",
        "  encrypted_password = \"\"\n",
        "  for char in password:\n",
        "    ascii_value = ord(char)\n",
        "    first_value = int((ascii_value / 26) + 80)\n",
        "    second_value = (ascii_value % 26) + 80\n",
        "    third_value = '+' if first_value > second_value else '-'\n",
        "    encrypted_password += chr(first_value) + chr(second_value) + third_value\n",
        "\n",
        "  return encrypted_password"
      ],
      "metadata": {
        "id": "NX2-jEvgdmWj"
      },
      "execution_count": 33,
      "outputs": []
    },
    {
      "cell_type": "code",
      "source": [
        "print(encrypt_password(\"deodrysiahaan\"))"
      ],
      "metadata": {
        "colab": {
          "base_uri": "https://localhost:8080/"
        },
        "id": "14dhP5tcgTFR",
        "outputId": "77c043e4-fd1e-44ee-c03c-0eecb57a8319"
      },
      "execution_count": 34,
      "outputs": [
        {
          "output_type": "stream",
          "name": "stdout",
          "text": [
            "Sf-Sg-TW-Sf-TZ-Ta-T[-TQ+Sc-TP+Sc-Sc-TV-\n"
          ]
        }
      ]
    }
  ]
}